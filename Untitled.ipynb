{
 "cells": [
  {
   "cell_type": "code",
   "execution_count": null,
   "id": "f1f5c133",
   "metadata": {},
   "outputs": [],
   "source": [
    "#Lab | Web Scraping Single Page (GNOD part 1)\n",
    "#Business goal:\n",
    "#Check the case_study_gnod.md file.\n",
    "\n",
    "#Make sure you've understood the big picture of your project:\n",
    "\n",
    "#the goal of the company (Gnod),\n",
    "#their current product (Gnoosic),\n",
    "#their strategy, and\n",
    "#how your project fits into this context.\n",
    "#Re-read the business case and the e-mail from the CTO.\n",
    "\n",
    "#Instructions - Scraping popular songs\n",
    "#Your product will take a song as an input from the user and will output another song (the recommendation). In most cases, the\n",
    "#recommended song will have to be similar to the inputted song, but the CTO thinks that if the song is on the top charts at the\n",
    "#moment, the user will also enjoy a recommendation of another song that is popular at the moment.\n",
    "\n",
    "#You have to find data on the internet about currently popular songs. Popvortex maintains a weekly Top 100 of \"hot\" songs here:\n",
    "#http://www.popvortex.com/music/charts/top-100-songs.php.\n",
    "\n",
    "#It's a good place to start! Scrape the current top 100 songs and their respective artists, and put the information into a pandas dataframe."
   ]
  },
  {
   "cell_type": "code",
   "execution_count": null,
   "id": "71697a50",
   "metadata": {},
   "outputs": [],
   "source": [
    "from bs4 import BeautifulSoup\n",
    "import requests\n",
    "import pandas as pd"
   ]
  },
  {
   "cell_type": "code",
   "execution_count": null,
   "id": "c86578a0",
   "metadata": {},
   "outputs": [],
   "source": [
    "url = \"https://www.popvortex.com/music/charts/top-100-songs.php\""
   ]
  },
  {
   "cell_type": "code",
   "execution_count": null,
   "id": "6a929c6f",
   "metadata": {},
   "outputs": [],
   "source": [
    "response = requests.get(url)\n",
    "response.status_code # 200 status code means OK!\n",
    "soup = BeautifulSoup(response.content, \"html.parser\")\n",
    "print(soup.prettify())\n",
    "chart_items = soup.select('.chart-content')\n",
    "songs = []\n",
    "artists = []\n",
    "for item in chart_items:\n",
    "    title = item.select_one('.title').get_text()\n",
    "    artist = item.select_one('.artist').get_text()\n",
    "    songs.append(title)\n",
    "    artists.append(artist)\n",
    "df = pd.DataFrame({\"song_title\": songs, \"artist\": artists})\n",
    "display(df) (edited) \n",
    "\n",
    "\n",
    "\n",
    "\n",
    "\n"
   ]
  },
  {
   "cell_type": "code",
   "execution_count": null,
   "id": "b52736df",
   "metadata": {},
   "outputs": [],
   "source": [
    "print(soup.prettify())"
   ]
  },
  {
   "cell_type": "code",
   "execution_count": null,
   "id": "3414e166",
   "metadata": {},
   "outputs": [],
   "source": []
  }
 ],
 "metadata": {
  "kernelspec": {
   "display_name": "Python 3 (ipykernel)",
   "language": "python",
   "name": "python3"
  },
  "language_info": {
   "codemirror_mode": {
    "name": "ipython",
    "version": 3
   },
   "file_extension": ".py",
   "mimetype": "text/x-python",
   "name": "python",
   "nbconvert_exporter": "python",
   "pygments_lexer": "ipython3",
   "version": "3.11.4"
  }
 },
 "nbformat": 4,
 "nbformat_minor": 5
}
