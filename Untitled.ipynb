{
 "cells": [
  {
   "cell_type": "code",
   "execution_count": 1,
   "id": "4a751dc6",
   "metadata": {},
   "outputs": [],
   "source": [
    "#Lab | Web Scraping Single Page (GNOD part 1)\n",
    "#Business goal:\n",
    "#Check the case_study_gnod.md file.\n",
    "\n",
    "#Make sure you've understood the big picture of your project:\n",
    "\n",
    "#the goal of the company (Gnod),\n",
    "#their current product (Gnoosic),\n",
    "#their strategy, and\n",
    "#how your project fits into this context.\n",
    "#Re-read the business case and the e-mail from the CTO.\n",
    "\n",
    "#Instructions - Scraping popular songs\n",
    "#Your product will take a song as an input from the user and will output another song (the recommendation). In most cases, the\n",
    "#recommended song will have to be similar to the inputted song, but the CTO thinks that if the song is on the top charts at the\n",
    "#moment, the user will also enjoy a recommendation of another song that is popular at the moment.\n",
    "\n",
    "#You have to find data on the internet about currently popular songs. Popvortex maintains a weekly Top 100 of \"hot\" songs here:\n",
    "#http://www.popvortex.com/music/charts/top-100-songs.php.\n",
    "\n",
    "#It's a good place to start! Scrape the current top 100 songs and their respective artists, and put the information into a pandas dataframe."
   ]
  },
  {
   "cell_type": "code",
   "execution_count": 2,
   "id": "3adc4290",
   "metadata": {},
   "outputs": [],
   "source": [
    "from bs4 import BeautifulSoup\n",
    "import requests\n",
    "import pandas as pd"
   ]
  },
  {
   "cell_type": "code",
   "execution_count": 3,
   "id": "33db7e83",
   "metadata": {},
   "outputs": [],
   "source": [
    "url = \"https://www.popvortex.com/music/charts/top-100-songs.php\""
   ]
  },
  {
   "cell_type": "code",
   "execution_count": 4,
   "id": "bdbc297c",
   "metadata": {},
   "outputs": [
    {
     "data": {
      "text/plain": [
       "200"
      ]
     },
     "execution_count": 4,
     "metadata": {},
     "output_type": "execute_result"
    }
   ],
   "source": [
    "response = requests.get(url)\n",
    "response.status_code"
   ]
  },
  {
   "cell_type": "code",
   "execution_count": 5,
   "id": "170d05d4",
   "metadata": {},
   "outputs": [],
   "source": [
    "soup = BeautifulSoup(response.content, \"html.parser\")"
   ]
  },
  {
   "cell_type": "code",
   "execution_count": 6,
   "id": "ab4fd290",
   "metadata": {},
   "outputs": [],
   "source": [
    "#print(soup.prettify())"
   ]
  },
  {
   "cell_type": "code",
   "execution_count": 7,
   "id": "66126bfb",
   "metadata": {},
   "outputs": [
    {
     "data": {
      "text/html": [
       "<div>\n",
       "<style scoped>\n",
       "    .dataframe tbody tr th:only-of-type {\n",
       "        vertical-align: middle;\n",
       "    }\n",
       "\n",
       "    .dataframe tbody tr th {\n",
       "        vertical-align: top;\n",
       "    }\n",
       "\n",
       "    .dataframe thead th {\n",
       "        text-align: right;\n",
       "    }\n",
       "</style>\n",
       "<table border=\"1\" class=\"dataframe\">\n",
       "  <thead>\n",
       "    <tr style=\"text-align: right;\">\n",
       "      <th></th>\n",
       "      <th>song_title</th>\n",
       "      <th>artist</th>\n",
       "    </tr>\n",
       "  </thead>\n",
       "  <tbody>\n",
       "    <tr>\n",
       "      <th>0</th>\n",
       "      <td>Lovin On Me</td>\n",
       "      <td>Jack Harlow</td>\n",
       "    </tr>\n",
       "    <tr>\n",
       "      <th>1</th>\n",
       "      <td>Lil Boo Thang</td>\n",
       "      <td>Paul Russell</td>\n",
       "    </tr>\n",
       "    <tr>\n",
       "      <th>2</th>\n",
       "      <td>I Remember Everything (feat. Kacey Musgraves)</td>\n",
       "      <td>Zach Bryan</td>\n",
       "    </tr>\n",
       "    <tr>\n",
       "      <th>3</th>\n",
       "      <td>White Horse</td>\n",
       "      <td>Chris Stapleton</td>\n",
       "    </tr>\n",
       "    <tr>\n",
       "      <th>4</th>\n",
       "      <td>Need A Favor</td>\n",
       "      <td>Jelly Roll</td>\n",
       "    </tr>\n",
       "    <tr>\n",
       "      <th>...</th>\n",
       "      <td>...</td>\n",
       "      <td>...</td>\n",
       "    </tr>\n",
       "    <tr>\n",
       "      <th>95</th>\n",
       "      <td>Last Christmas (Single Version)</td>\n",
       "      <td>Wham!</td>\n",
       "    </tr>\n",
       "    <tr>\n",
       "      <th>96</th>\n",
       "      <td>TRUCK BED</td>\n",
       "      <td>HARDY</td>\n",
       "    </tr>\n",
       "    <tr>\n",
       "      <th>97</th>\n",
       "      <td>Daylight</td>\n",
       "      <td>David Kushner</td>\n",
       "    </tr>\n",
       "    <tr>\n",
       "      <th>98</th>\n",
       "      <td>White Christmas</td>\n",
       "      <td>Bing Crosby</td>\n",
       "    </tr>\n",
       "    <tr>\n",
       "      <th>99</th>\n",
       "      <td>Pretty Little Poison</td>\n",
       "      <td>Warren Zeiders</td>\n",
       "    </tr>\n",
       "  </tbody>\n",
       "</table>\n",
       "<p>100 rows × 2 columns</p>\n",
       "</div>"
      ],
      "text/plain": [
       "                                       song_title           artist\n",
       "0                                     Lovin On Me      Jack Harlow\n",
       "1                                   Lil Boo Thang     Paul Russell\n",
       "2   I Remember Everything (feat. Kacey Musgraves)       Zach Bryan\n",
       "3                                     White Horse  Chris Stapleton\n",
       "4                                    Need A Favor       Jelly Roll\n",
       "..                                            ...              ...\n",
       "95                Last Christmas (Single Version)            Wham!\n",
       "96                                      TRUCK BED            HARDY\n",
       "97                                       Daylight    David Kushner\n",
       "98                                White Christmas      Bing Crosby\n",
       "99                           Pretty Little Poison   Warren Zeiders\n",
       "\n",
       "[100 rows x 2 columns]"
      ]
     },
     "metadata": {},
     "output_type": "display_data"
    }
   ],
   "source": [
    "chart_items = soup.select('.chart-content')\n",
    "songs = []\n",
    "artists = []\n",
    "for item in chart_items:\n",
    "    title = item.select_one('.title').get_text()\n",
    "    artist = item.select_one('.artist').get_text()\n",
    "    songs.append(title)\n",
    "    artists.append(artist)\n",
    "df = pd.DataFrame({\"song_title\": songs, \"artist\": artists})\n",
    "display(df)"
   ]
  },
  {
   "cell_type": "code",
   "execution_count": 8,
   "id": "c92c6fad",
   "metadata": {},
   "outputs": [
    {
     "name": "stdout",
     "output_type": "stream",
     "text": [
      "                                       Song Title           Artist\n",
      "0                                     Lovin On Me      Jack Harlow\n",
      "1                                   Lil Boo Thang     Paul Russell\n",
      "2   I Remember Everything (feat. Kacey Musgraves)       Zach Bryan\n",
      "3                                     White Horse  Chris Stapleton\n",
      "4                                    Need A Favor       Jelly Roll\n",
      "..                                            ...              ...\n",
      "95                Last Christmas (Single Version)            Wham!\n",
      "96                                      TRUCK BED            HARDY\n",
      "97                                       Daylight    David Kushner\n",
      "98                                White Christmas      Bing Crosby\n",
      "99                           Pretty Little Poison   Warren Zeiders\n",
      "\n",
      "[100 rows x 2 columns]\n"
     ]
    }
   ],
   "source": []
  },
  {
   "cell_type": "code",
   "execution_count": null,
   "id": "499bf24a",
   "metadata": {},
   "outputs": [],
   "source": []
  }
 ],
 "metadata": {
  "kernelspec": {
   "display_name": "Python 3 (ipykernel)",
   "language": "python",
   "name": "python3"
  },
  "language_info": {
   "codemirror_mode": {
    "name": "ipython",
    "version": 3
   },
   "file_extension": ".py",
   "mimetype": "text/x-python",
   "name": "python",
   "nbconvert_exporter": "python",
   "pygments_lexer": "ipython3",
   "version": "3.11.4"
  }
 },
 "nbformat": 4,
 "nbformat_minor": 5
}
